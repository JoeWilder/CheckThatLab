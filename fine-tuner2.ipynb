{
 "cells": [
  {
   "cell_type": "code",
   "execution_count": null,
   "metadata": {},
   "outputs": [
    {
     "data": {
      "application/vnd.jupyter.widget-view+json": {
       "model_id": "2a9cddf174c14df5a532da5defdf17a0",
       "version_major": 2,
       "version_minor": 0
      },
      "text/plain": [
       "VBox(children=(HTML(value='<center> <img\\nsrc=https://huggingface.co/front/assets/huggingface_logo-noborder.sv…"
      ]
     },
     "metadata": {},
     "output_type": "display_data"
    }
   ],
   "source": [
    "from transformers import AutoModelForCausalLM, AutoTokenizer\n",
    "from transformers import pipeline\n",
    "import torch\n",
    "from huggingface_hub import login\n",
    "\n",
    "login()\n",
    "\n"
   ]
  },
  {
   "cell_type": "code",
   "execution_count": 4,
   "metadata": {},
   "outputs": [
    {
     "data": {
      "application/vnd.jupyter.widget-view+json": {
       "model_id": "2ff5f8b6a025420fb98e2dfe94ba6249",
       "version_major": 2,
       "version_minor": 0
      },
      "text/plain": [
       "Loading checkpoint shards:   0%|          | 0/2 [00:00<?, ?it/s]"
      ]
     },
     "metadata": {},
     "output_type": "display_data"
    },
    {
     "data": {
      "application/vnd.jupyter.widget-view+json": {
       "model_id": "18afa85d1b024ec4972ead37465d8e69",
       "version_major": 2,
       "version_minor": 0
      },
      "text/plain": [
       "generation_config.json:   0%|          | 0.00/189 [00:00<?, ?B/s]"
      ]
     },
     "metadata": {},
     "output_type": "display_data"
    }
   ],
   "source": [
    "model_id = \"meta-llama/Llama-3.2-3B-Instruct\"\n",
    "device = \"cuda\"\n",
    "\n",
    "tokenizer = AutoTokenizer.from_pretrained(model_id)\n",
    "model = AutoModelForCausalLM.from_pretrained(model_id, torch_dtype=torch.bfloat16, device_map=device)"
   ]
  },
  {
   "cell_type": "code",
   "execution_count": 21,
   "metadata": {},
   "outputs": [
    {
     "name": "stdout",
     "output_type": "stream",
     "text": [
      "Train dataset length: 11374\n",
      "Test dataset length: 1171\n"
     ]
    }
   ],
   "source": [
    "from utils.dataset import ClaimVerificationDataset\n",
    "\n",
    "train_dataset = ClaimVerificationDataset(f\"data/train-eng.csv\")\n",
    "test_dataset = ClaimVerificationDataset(f\"data/dev-eng.csv\")\n",
    "\n",
    "print(f\"Train dataset length: {len(train_dataset)}\")\n",
    "print(f\"Test dataset length: {len(test_dataset)}\")"
   ]
  },
  {
   "cell_type": "code",
   "execution_count": 28,
   "metadata": {},
   "outputs": [],
   "source": [
    "conversation = [\n",
    "            {\"role\": \"system\", \"content\": \"You are an AI assistant designed to extract claims from a given passage of text. Keep it short and return the claim in the text. Only return the big idea and exclude unneeded details.\"},\n",
    "            {\"role\": \"user\", \"content\": train_dataset[0][\"text\"]},\n",
    "            {\"role\": \"assistant\", \"content\": train_dataset[0][\"claim\"]},\n",
    "            {\"role\": \"user\", \"content\": train_dataset[1][\"text\"]},\n",
    "            {\"role\": \"assistant\", \"content\": train_dataset[1][\"claim\"]},\n",
    "            {\"role\": \"user\", \"content\": train_dataset[15][\"text\"]},\n",
    "            {\"role\": \"assistant\", \"content\": train_dataset[15][\"claim\"]},\n",
    "            {\"role\": \"user\", \"content\": train_dataset[23][\"text\"]},\n",
    "            {\"role\": \"assistant\", \"content\": train_dataset[23][\"claim\"]},\n",
    "            {\"role\": \"user\", \"content\": train_dataset[29][\"text\"]},\n",
    "            {\"role\": \"assistant\", \"content\": train_dataset[29][\"claim\"]},\n",
    "        ]"
   ]
  },
  {
   "cell_type": "code",
   "execution_count": 29,
   "metadata": {},
   "outputs": [],
   "source": [
    "new_passage = \"The government has announced a new policy to reduce carbon emissions by 40% before 2030. This is actually rediculous I aint paying for that????\"\n",
    "\n",
    "# Append new passage as user input\n",
    "conversation.append({\"role\": \"user\", \"content\": new_passage})"
   ]
  },
  {
   "cell_type": "code",
   "execution_count": 30,
   "metadata": {},
   "outputs": [],
   "source": [
    "formatted_prompt = tokenizer.apply_chat_template(conversation, tokenize=False, add_generation_prompt=True)"
   ]
  },
  {
   "cell_type": "code",
   "execution_count": null,
   "metadata": {},
   "outputs": [
    {
     "name": "stderr",
     "output_type": "stream",
     "text": [
      "Device set to use cuda\n",
      "Setting `pad_token_id` to `eos_token_id`:128001 for open-end generation.\n"
     ]
    },
    {
     "name": "stdout",
     "output_type": "stream",
     "text": [
      "Government aims to reduce carbon emissions by 40% by 2030.\n"
     ]
    }
   ],
   "source": [
    "generation_pipeline = pipeline(\n",
    "    task=\"text-generation\",\n",
    "    model=model,\n",
    "    tokenizer=tokenizer,\n",
    "    temperature=0.1,\n",
    "    top_p=0.8,\n",
    "    return_full_text=False\n",
    ")\n",
    "\n",
    "output = generation_pipeline(formatted_prompt)\n",
    "claim = output[0]['generated_text'].split(\".\")[0] + \".\"\n",
    "print(claim)"
   ]
  }
 ],
 "metadata": {
  "kernelspec": {
   "display_name": "venv",
   "language": "python",
   "name": "python3"
  },
  "language_info": {
   "codemirror_mode": {
    "name": "ipython",
    "version": 3
   },
   "file_extension": ".py",
   "mimetype": "text/x-python",
   "name": "python",
   "nbconvert_exporter": "python",
   "pygments_lexer": "ipython3",
   "version": "3.10.0"
  }
 },
 "nbformat": 4,
 "nbformat_minor": 2
}
